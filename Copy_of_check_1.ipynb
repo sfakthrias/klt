{
  "nbformat": 4,
  "nbformat_minor": 0,
  "metadata": {
    "colab": {
      "provenance": [],
      "gpuType": "A100"
    },
    "kernelspec": {
      "name": "python3",
      "display_name": "Python 3"
    },
    "language_info": {
      "name": "python"
    },
    "accelerator": "GPU"
  },
  "cells": [
    {
      "cell_type": "code",
      "execution_count": null,
      "metadata": {
        "id": "9bUBfd-DARM9"
      },
      "outputs": [],
      "source": [
        "# --- Κελί 1: Mount + Αντιγραφή από Google Drive ---\n",
        "from google.colab import drive\n",
        "import os\n",
        "\n",
        "drive.mount('/content/drive')\n",
        "\n",
        "# Δημιουργία φακέλων\n",
        "!mkdir -p /content/data/new_images\n",
        "\n",
        "# Αντιγραφή GeoTIFF (.tif) και world files (.tfw) από Drive σε local\n",
        "!cp /content/drive/MyDrive/road_extraction/new_images/*.tif /content/data/new_images/\n",
        "!cp /content/drive/MyDrive/road_extraction/new_images/*.tfw /content/data/new_images/\n",
        "\n"
      ]
    },
    {
      "cell_type": "code",
      "source": [
        "import numpy as np\n",
        "import rasterio\n",
        "from PIL import Image\n",
        "from tensorflow.keras.models import load_model\n",
        "\n",
        "# Φόρτωση μοντέλου (προσαρμόστε custom_objects αν χρειάζεται)\n",
        "model = load_model('/content/drive/MyDrive/road_extraction/road_segmentation_model.h5')\n",
        "\n",
        "# --- 1. Μεμονωμένη εικόνα ---\n",
        "def segment_large_geotiff_georeferenced(model, image_path, output_path,\n",
        "                                        tile_size=256, overlap=0, threshold=0.5):\n",
        "    with rasterio.open(image_path) as src:\n",
        "        profile = src.profile\n",
        "        transform = src.transform\n",
        "        crs = src.crs\n",
        "        img_np = src.read()  # (C, H, W)\n",
        "        img_np = np.transpose(img_np, (1, 2, 0))  # (H, W, C)\n",
        "\n",
        "    if img_np.shape[2] > 3:\n",
        "        img_np = img_np[:, :, :3]\n",
        "    if img_np.ndim == 2:\n",
        "        img_np = np.stack([img_np]*3, axis=-1)\n",
        "\n",
        "    h, w, c = img_np.shape\n",
        "    mask_full = np.zeros((h, w), dtype=np.uint8)\n",
        "    step = tile_size - overlap\n",
        "\n",
        "    for y in range(0, h, step):\n",
        "        for x in range(0, w, step):\n",
        "            x_end = min(x + tile_size, w)\n",
        "            y_end = min(y + tile_size, h)\n",
        "            x_start = x_end - tile_size\n",
        "            y_start = y_end - tile_size\n",
        "            if x_start < 0: x_start = 0\n",
        "            if y_start < 0: y_start = 0\n",
        "\n",
        "            tile = img_np[y_start:y_start+tile_size, x_start:x_start+tile_size]\n",
        "            tile_input = tile / 255.0\n",
        "            tile_input = np.expand_dims(tile_input, axis=0)\n",
        "\n",
        "            pred = model.predict(tile_input)[0]\n",
        "            pred_mask = (pred.squeeze() > threshold).astype(\"uint8\") * 255\n",
        "\n",
        "            mask_full[y_start:y_start+tile_size, x_start:x_start+tile_size] = np.maximum(\n",
        "                mask_full[y_start:y_start+tile_size, x_start:x_start+tile_size], pred_mask\n",
        "            )\n",
        "\n",
        "    profile.update({'count': 1, 'dtype': 'uint8', 'compress': 'lzw'})\n",
        "    with rasterio.open(output_path, 'w', **profile) as dst:\n",
        "        dst.write(mask_full, 1)\n",
        "\n",
        "    return output_path\n",
        "\n",
        "# --- 2. Επεξεργασία φακέλου ---\n",
        "def batch_segment_geotiff_folder(model, input_folder, output_folder,\n",
        "                                  tile_size=256, overlap=0, threshold=0.5):\n",
        "    os.makedirs(output_folder, exist_ok=True)\n",
        "    tif_files = sorted([f for f in os.listdir(input_folder) if f.lower().endswith('.tif') and not f.lower().endswith('.tfw')])\n",
        "\n",
        "    for tif_file in tif_files:\n",
        "        input_path = os.path.join(input_folder, tif_file)\n",
        "        output_path = os.path.join(output_folder, f\"mask_{tif_file}\")\n",
        "\n",
        "        print(f\"▶️ Επεξεργασία: {tif_file}...\")\n",
        "        segment_large_geotiff_georeferenced(model, input_path, output_path,\n",
        "                                            tile_size=tile_size,\n",
        "                                            overlap=overlap,\n",
        "                                            threshold=threshold)\n",
        "        print(f\"✅ Αποθηκεύτηκε: {output_path}\")\n",
        "\n",
        "    print(\"✅ Ολοκληρώθηκε η επεξεργασία όλων των εικόνων.\")\n",
        "\n",
        "# Εκτέλεση batch\n",
        "batch_segment_geotiff_folder(\n",
        "    model=model,\n",
        "    input_folder=\"/content/data/new_images\",\n",
        "    output_folder=\"/content/data/predicted_masks\",\n",
        "    tile_size=256,\n",
        "    overlap=0,\n",
        "    threshold=0.5\n",
        ")\n"
      ],
      "metadata": {
        "id": "AH0AlfPXB03k"
      },
      "execution_count": null,
      "outputs": []
    },
    {
      "cell_type": "code",
      "source": [
        "# --- Κελί 3: Zip + Επιστροφή στο Google Drive ---\n",
        "!zip -r /content/predicted_masks.zip /content/data/predicted_masks\n",
        "!cp /content/predicted_masks.zip /content/drive/MyDrive/road_extraction/predicted_masks.zip\n"
      ],
      "metadata": {
        "id": "pCH7FmM9JHN3"
      },
      "execution_count": null,
      "outputs": []
    }
  ]
}