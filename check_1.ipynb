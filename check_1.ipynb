{
  "nbformat": 4,
  "nbformat_minor": 0,
  "metadata": {
    "colab": {
      "provenance": [],
      "gpuType": "A100"
    },
    "kernelspec": {
      "name": "python3",
      "display_name": "Python 3"
    },
    "language_info": {
      "name": "python"
    },
    "accelerator": "GPU"
  },
  "cells": [
    {
      "cell_type": "code",
      "execution_count": null,
      "metadata": {
        "id": "9bUBfd-DARM9",
        "colab": {
          "base_uri": "https://localhost:8080/"
        },
        "outputId": "409bb7b4-4773-4bf7-b809-6a984c14a717"
      },
      "outputs": [
        {
          "output_type": "stream",
          "name": "stdout",
          "text": [
            "Drive already mounted at /content/drive; to attempt to forcibly remount, call drive.mount(\"/content/drive\", force_remount=True).\n",
            "total 772M\n",
            "-rw------- 1 root root   44 Jul 16 15:51 010_0302041145.tfw\n",
            "-rw------- 1 root root 258M Jul 16 15:51 010_0302041145.tif\n",
            "-rw------- 1 root root   44 Jul 16 15:51 012_0304041070.tfw\n",
            "-rw------- 1 root root 258M Jul 16 15:51 012_0304041070.tif\n",
            "-rw------- 1 root root   44 Jul 16 15:51 013_0304041085.tfw\n",
            "-rw------- 1 root root 258M Jul 16 15:51 013_0304041085.tif\n"
          ]
        }
      ],
      "source": [
        "# --- Κελί 1: Mount + Αντιγραφή από Google Drive ---\n",
        "from google.colab import drive\n",
        "import os\n",
        "\n",
        "drive.mount('/content/drive')\n",
        "!rm -f /content/data/new_images/*.tif\n",
        "!rm -f /content/data/new_images/*.tfw\n",
        "# Δημιουργία φακέλων\n",
        "# !mkdir -p /content/data/new_images\n",
        "\n",
        "# Αντιγραφή GeoTIFF (.tif) και world files (.tfw) από Drive σε local\n",
        "!cp /content/drive/MyDrive/road_extraction/new_images/*.tif /content/data/new_images/\n",
        "!cp /content/drive/MyDrive/road_extraction/new_images/*.tfw /content/data/new_images/\n",
        "!ls -lh /content/data/new_images\n"
      ]
    },
    {
      "cell_type": "code",
      "source": [
        "!pip install rasterio\n",
        "import cv2\n",
        "from tqdm import tqdm\n",
        "import numpy as np\n",
        "import rasterio\n",
        "from PIL import Image\n",
        "from tensorflow.keras.models import load_model\n",
        "\n",
        "# Φόρτωση μοντέλου (προσαρμόστε custom_objects αν χρειάζεται)\n",
        "class IoUMetric:\n",
        "    def __call__(self, y_true, y_pred):\n",
        "        import tensorflow.keras.backend as K\n",
        "        y_pred = K.cast(y_pred > 0.5, 'float32')\n",
        "        intersection = K.sum(y_true * y_pred)\n",
        "        union = K.sum(y_true) + K.sum(y_pred) - intersection\n",
        "        return intersection / (union + K.epsilon())\n",
        "\n",
        "model = load_model('/content/drive/MyDrive/road_segmentation_model.h5',\n",
        "                   custom_objects={'iou_metric': IoUMetric()})\n",
        "# --- 1. Μεμονωμένη εικόνα ---\n",
        "def segment_large_geotiff_georeferenced(model, image_path, output_path,\n",
        "                                        tile_size=256, overlap=0, threshold=0.3):\n",
        "    with rasterio.open(image_path) as src:\n",
        "        profile = src.profile\n",
        "        transform = src.transform\n",
        "        crs = src.crs\n",
        "        img_np = src.read()  # (C, H, W)\n",
        "        img_np = np.transpose(img_np, (1, 2, 0))  # (H, W, C)\n",
        "\n",
        "    if img_np.shape[2] > 3:\n",
        "        img_np = img_np[:, :, :3]\n",
        "    if img_np.ndim == 2:\n",
        "        img_np = np.stack([img_np]*3, axis=-1)\n",
        "\n",
        "    h, w, c = img_np.shape\n",
        "    mask_full = np.zeros((h, w), dtype=np.uint8)\n",
        "    step = tile_size - overlap\n",
        "\n",
        "    for y in range(0, h, step):\n",
        "        for x in range(0, w, step):\n",
        "            x_end = min(x + tile_size, w)\n",
        "            y_end = min(y + tile_size, h)\n",
        "            x_start = x_end - tile_size\n",
        "            y_start = y_end - tile_size\n",
        "            if x_start < 0: x_start = 0\n",
        "            if y_start < 0: y_start = 0\n",
        "\n",
        "            tile = img_np[y_start:y_start+tile_size, x_start:x_start+tile_size]\n",
        "            tile_input = tile / 255.0\n",
        "            tile_input = np.expand_dims(tile_input, axis=0)\n",
        "\n",
        "            pred = model.predict(tile_input,verbose=0)[0]\n",
        "            pred_mask = (pred.squeeze() > threshold).astype(\"uint8\")\n",
        "            kernel = np.ones((5, 5), np.uint8)\n",
        "            pred_mask = cv2.morphologyEx(pred_mask, cv2.MORPH_CLOSE, kernel)\n",
        "\n",
        "            mask_full[y_start:y_start+tile_size, x_start:x_start+tile_size] = np.maximum(\n",
        "                mask_full[y_start:y_start+tile_size, x_start:x_start+tile_size], pred_mask\n",
        "            )\n",
        "\n",
        "    profile.update({'count': 1, 'dtype': 'uint8', 'compress': 'lzw'})\n",
        "    with rasterio.open(output_path, 'w', **profile) as dst:\n",
        "        dst.write(mask_full, 1)\n",
        "\n",
        "    return output_path\n",
        "\n",
        "# --- 2. Επεξεργασία φακέλου ---\n",
        "def batch_segment_geotiff_folder(model, input_folder, output_folder,\n",
        "                                  tile_size=256, overlap=0, threshold=0.3):\n",
        "    os.makedirs(output_folder, exist_ok=True)\n",
        "    tif_files = sorted([\n",
        "        f for f in os.listdir(input_folder)\n",
        "        if f.lower().endswith('.tif') and not f.lower().endswith('.tfw')\n",
        "    ])\n",
        "\n",
        "    for tif_file in tqdm(tif_files, desc=\"🔄 Επεξεργασία εικόνων\"):\n",
        "        input_path = os.path.join(input_folder, tif_file)\n",
        "        output_path = os.path.join(output_folder, f\"mask_{tif_file}\")\n",
        "        segment_large_geotiff_georeferenced(model, input_path, output_path,\n",
        "                                            tile_size=tile_size,\n",
        "                                            overlap=32,\n",
        "                                            threshold=threshold)\n",
        "        print(f\"✅ Αποθηκεύτηκε: {output_path}\")\n",
        "\n",
        "    print(\"✅ Ολοκληρώθηκε η επεξεργασία όλων των εικόνων.\")\n",
        "\n",
        "# Εκτέλεση batch\n",
        "batch_segment_geotiff_folder(\n",
        "    model=model,\n",
        "    input_folder=\"/content/data/new_images\",\n",
        "    output_folder=\"/content/data/predicted_masks\",\n",
        "    tile_size=256,\n",
        "    overlap=0,\n",
        "    threshold=0.3\n",
        ")\n"
      ],
      "metadata": {
        "id": "AH0AlfPXB03k",
        "colab": {
          "base_uri": "https://localhost:8080/"
        },
        "outputId": "57f7f664-5adb-4e3d-a3b2-d5259e651647"
      },
      "execution_count": null,
      "outputs": [
        {
          "output_type": "stream",
          "name": "stdout",
          "text": [
            "Requirement already satisfied: rasterio in /usr/local/lib/python3.11/dist-packages (1.4.3)\n",
            "Requirement already satisfied: affine in /usr/local/lib/python3.11/dist-packages (from rasterio) (2.4.0)\n",
            "Requirement already satisfied: attrs in /usr/local/lib/python3.11/dist-packages (from rasterio) (25.3.0)\n",
            "Requirement already satisfied: certifi in /usr/local/lib/python3.11/dist-packages (from rasterio) (2025.7.9)\n",
            "Requirement already satisfied: click>=4.0 in /usr/local/lib/python3.11/dist-packages (from rasterio) (8.2.1)\n",
            "Requirement already satisfied: cligj>=0.5 in /usr/local/lib/python3.11/dist-packages (from rasterio) (0.7.2)\n",
            "Requirement already satisfied: numpy>=1.24 in /usr/local/lib/python3.11/dist-packages (from rasterio) (2.0.2)\n",
            "Requirement already satisfied: click-plugins in /usr/local/lib/python3.11/dist-packages (from rasterio) (1.1.1.2)\n",
            "Requirement already satisfied: pyparsing in /usr/local/lib/python3.11/dist-packages (from rasterio) (3.2.3)\n"
          ]
        },
        {
          "output_type": "stream",
          "name": "stderr",
          "text": [
            "WARNING:absl:Compiled the loaded model, but the compiled metrics have yet to be built. `model.compile_metrics` will be empty until you train or evaluate the model.\n",
            "🔄 Επεξεργασία εικόνων:  33%|███▎      | 1/3 [01:16<02:33, 76.70s/it]"
          ]
        },
        {
          "output_type": "stream",
          "name": "stdout",
          "text": [
            "✅ Αποθηκεύτηκε: /content/data/predicted_masks/mask_010_0302041145.tif\n"
          ]
        },
        {
          "output_type": "stream",
          "name": "stderr",
          "text": [
            "\r🔄 Επεξεργασία εικόνων:  67%|██████▋   | 2/3 [02:31<01:15, 75.54s/it]"
          ]
        },
        {
          "output_type": "stream",
          "name": "stdout",
          "text": [
            "✅ Αποθηκεύτηκε: /content/data/predicted_masks/mask_012_0304041070.tif\n"
          ]
        },
        {
          "output_type": "stream",
          "name": "stderr",
          "text": [
            "🔄 Επεξεργασία εικόνων: 100%|██████████| 3/3 [03:46<00:00, 75.46s/it]"
          ]
        },
        {
          "output_type": "stream",
          "name": "stdout",
          "text": [
            "✅ Αποθηκεύτηκε: /content/data/predicted_masks/mask_013_0304041085.tif\n",
            "✅ Ολοκληρώθηκε η επεξεργασία όλων των εικόνων.\n"
          ]
        },
        {
          "output_type": "stream",
          "name": "stderr",
          "text": [
            "\n"
          ]
        }
      ]
    },
    {
      "cell_type": "code",
      "source": [
        "# --- Κελί 3: Zip + Επιστροφή στο Google Drive ---\n",
        "!zip -r /content/predicted_masks.zip /content/data/predicted_masks\n",
        "!cp /content/predicted_masks.zip /content/drive/MyDrive/road_extraction/predicted_masks.zip\n"
      ],
      "metadata": {
        "id": "pCH7FmM9JHN3",
        "colab": {
          "base_uri": "https://localhost:8080/"
        },
        "outputId": "6f940fbb-3364-4bc4-f76b-4eb9d60c38f5"
      },
      "execution_count": null,
      "outputs": [
        {
          "output_type": "stream",
          "name": "stdout",
          "text": [
            "updating: content/data/predicted_masks/ (stored 0%)\n",
            "updating: content/data/predicted_masks/mask_010_0302041145.tif (deflated 61%)\n",
            "updating: content/data/predicted_masks/mask_012_0304041070.tif (deflated 49%)\n",
            "updating: content/data/predicted_masks/mask_013_0304041085.tif (deflated 57%)\n"
          ]
        }
      ]
    }
  ]
}